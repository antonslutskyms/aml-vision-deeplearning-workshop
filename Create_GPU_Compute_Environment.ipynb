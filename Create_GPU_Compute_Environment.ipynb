{
 "cells": [
  {
   "cell_type": "code",
   "execution_count": 11,
   "metadata": {},
   "outputs": [],
   "source": [
    "!az configure --defaults workspace=<YOUR WORKSPACE> group=<YOUR RESOURCE GROUP>"
   ]
  },
  {
   "cell_type": "code",
   "execution_count": 12,
   "metadata": {},
   "outputs": [
    {
     "name": "stdout",
     "output_type": "stream",
     "text": [
      "Overwriting dependencies/gpu_environment.yml\n"
     ]
    }
   ],
   "source": [
    "%%writefile dependencies/gpu_environment.yml\n",
    "$schema: https://azuremlschemas.azureedge.net/latest/environment.schema.json\n",
    "name: gpu_environment\n",
    "build:\n",
    "    path: ../environment_files\n",
    "    dockerfile_path: Dockerfile\n",
    "description: GPU runtime environment."
   ]
  },
  {
   "cell_type": "code",
   "execution_count": 13,
   "metadata": {},
   "outputs": [
    {
     "name": "stdout",
     "output_type": "stream",
     "text": [
      "{\n",
      "  \"build\": {\n",
      "    \"dockerfile_path\": \"Dockerfile\",\n",
      "    \"path\": \"https://gpuworkspace9922102151.blob.core.windows.net/azureml-blobstore-23317781-110c-4faf-9763-19f2fd34b6cf/LocalUpload/7a75a6ad9ef9a599cd9b9bab5a8e947e/environment_files/\"\n",
      "  },\n",
      "  \"creation_context\": {\n",
      "    \"created_at\": \"2024-01-16T21:47:37.724568+00:00\",\n",
      "    \"created_by\": \"Anton Slutsky\",\n",
      "    \"created_by_type\": \"User\",\n",
      "    \"last_modified_at\": \"2024-01-16T21:47:37.724568+00:00\",\n",
      "    \"last_modified_by\": \"Anton Slutsky\",\n",
      "    \"last_modified_by_type\": \"User\"\n",
      "  },\n",
      "  \"description\": \"GPU runtime environment.\",\n",
      "  \"id\": \"azureml:/subscriptions/781b03e7-6eb7-4506-bab8-cf3a0d89b1d4/resourceGroups/antonslutsky-rg/providers/Microsoft.MachineLearningServices/workspaces/gpu-workspace/environments/gpu_environment/versions/1\",\n",
      "  \"name\": \"gpu_environment\",\n",
      "  \"os_type\": \"linux\",\n",
      "  \"resourceGroup\": \"antonslutsky-rg\",\n",
      "  \"tags\": {},\n",
      "  \"version\": \"1\"\n",
      "}\n"
     ]
    },
    {
     "name": "stderr",
     "output_type": "stream",
     "text": [
      "\n",
      "Uploading environment_files (0.0 MBs):   0%|          | 0/1845 [00:00<?, ?it/s]\n",
      "Uploading environment_files (0.0 MBs): 100%|##########| 1845/1845 [00:00<00:00, 4965.25it/s]\n",
      "Uploading environment_files (0.0 MBs): 100%|##########| 1845/1845 [00:00<00:00, 4965.25it/s]\n",
      "\n",
      "\n"
     ]
    }
   ],
   "source": [
    "!az ml environment create --file dependencies/gpu_environment.yml"
   ]
  }
 ],
 "metadata": {
  "kernelspec": {
   "display_name": "Python 3",
   "language": "python",
   "name": "python3"
  },
  "language_info": {
   "codemirror_mode": {
    "name": "ipython",
    "version": 3
   },
   "file_extension": ".py",
   "mimetype": "text/x-python",
   "name": "python",
   "nbconvert_exporter": "python",
   "pygments_lexer": "ipython3",
   "version": "3.10.13"
  }
 },
 "nbformat": 4,
 "nbformat_minor": 2
}
