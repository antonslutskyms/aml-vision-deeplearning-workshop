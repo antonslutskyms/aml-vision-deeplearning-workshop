{
 "cells": [
  {
   "cell_type": "code",
   "execution_count": 1,
   "metadata": {},
   "outputs": [
    {
     "name": "stdout",
     "output_type": "stream",
     "text": [
      "[\n",
      "  {\n",
      "    \"cloudName\": \"AzureCloud\",\n",
      "    \"homeTenantId\": \"16b3c013-d300-468d-ac64-7eda0820b6d3\",\n",
      "    \"id\": \"781b03e7-6eb7-4506-bab8-cf3a0d89b1d4\",\n",
      "    \"isDefault\": true,\n",
      "    \"managedByTenants\": [\n",
      "      {\n",
      "        \"tenantId\": \"72f988bf-86f1-41af-91ab-2d7cd011db47\"\n",
      "      }\n",
      "    ],\n",
      "    \"name\": \"MCAPS-Hybrid-REQ-66223-2023-antonslutsky\",\n",
      "    \"state\": \"Enabled\",\n",
      "    \"tenantId\": \"16b3c013-d300-468d-ac64-7eda0820b6d3\",\n",
      "    \"user\": {\n",
      "      \"name\": \"antonslutsky@microsoft.com\",\n",
      "      \"type\": \"user\"\n",
      "    }\n",
      "  },\n",
      "  {\n",
      "    \"cloudName\": \"AzureCloud\",\n",
      "    \"homeTenantId\": \"16b3c013-d300-468d-ac64-7eda0820b6d3\",\n",
      "    \"id\": \"4e54a795-4951-418e-af5b-79baae7ecf07\",\n",
      "    \"isDefault\": false,\n",
      "    \"managedByTenants\": [\n",
      "      {\n",
      "        \"tenantId\": \"72f988bf-86f1-41af-91ab-2d7cd011db47\"\n",
      "      }\n",
      "    ],\n",
      "    \"name\": \"alzeltov-mcap-nonprod\",\n",
      "    \"state\": \"Enabled\",\n",
      "    \"tenantId\": \"16b3c013-d300-468d-ac64-7eda0820b6d3\",\n",
      "    \"user\": {\n",
      "      \"name\": \"antonslutsky@microsoft.com\",\n",
      "      \"type\": \"user\"\n",
      "    }\n",
      "  }\n",
      "]\n"
     ]
    },
    {
     "name": "stderr",
     "output_type": "stream",
     "text": [
      "WARNING: Please select the account you want to log in with.\n"
     ]
    }
   ],
   "source": [
    "!az login --tenant 16b3c013-d300-468d-ac64-7eda0820b6d3"
   ]
  },
  {
   "cell_type": "code",
   "execution_count": 2,
   "metadata": {},
   "outputs": [],
   "source": [
    "!az configure --defaults workspace=gpu-workspace group=antonslutsky-rg"
   ]
  },
  {
   "cell_type": "code",
   "execution_count": 7,
   "metadata": {},
   "outputs": [
    {
     "name": "stdout",
     "output_type": "stream",
     "text": [
      "Overwriting ./dependencies/job.yml\n"
     ]
    }
   ],
   "source": [
    "%%writefile ./dependencies/job.yml\n",
    "$schema: https://azuremlschemas.azureedge.net/latest/commandJob.schema.json\n",
    "code: ../src\n",
    "command: >-\n",
    "  python mae_trainer.py \n",
    "  --dataset_directory_name ${{inputs.data}} \n",
    "  --trainset ${{inputs.trainset}} \n",
    "  --valset ${{inputs.valset}} \n",
    "  --num_epochs ${{inputs.num_epochs}} \n",
    "  --batch_size ${{inputs.batch_size}} \n",
    "  --num_workers ${{inputs.num_workers}}  \n",
    "  --num_nodes ${{inputs.num_nodes}} \n",
    "  --num_devices ${{inputs.num_devices}}  \n",
    "  --strategy ${{inputs.strategy}} \n",
    "  --img_size ${{inputs.img_size}} \n",
    "  --learning_rate ${{inputs.learning_rate}} \n",
    "  --weight_decay ${{inputs.weight_decay}}\n",
    "inputs:\n",
    "  data:\n",
    "    type: uri_folder\n",
    "    path: azureml://subscriptions/781b03e7-6eb7-4506-bab8-cf3a0d89b1d4/resourcegroups/antonslutsky-rg/workspaces/gpu-workspace/datastores/workspaceblobstore/paths/UI/2023-12-05_185853_UTC/ImageNet_1000_sm/imagenet-mini/\n",
    "    mode: ro_mount      \n",
    "  trainset:\n",
    "    type: uri_file\n",
    "    path: azureml://subscriptions/781b03e7-6eb7-4506-bab8-cf3a0d89b1d4/resourcegroups/antonslutsky-rg/workspaces/gpu-workspace/datastores/workspaceblobstore/paths/UI/2023-12-05_190730_UTC/ImageNet_1000_train.csv\n",
    "    mode: ro_mount\n",
    "  valset:\n",
    "    type: uri_file\n",
    "    path: azureml://subscriptions/781b03e7-6eb7-4506-bab8-cf3a0d89b1d4/resourcegroups/antonslutsky-rg/workspaces/gpu-workspace/datastores/workspaceblobstore/paths/UI/2023-12-05_190801_UTC/ImageNet_1000_val.csv\n",
    "    mode: ro_mount         \n",
    "\n",
    "  num_epochs: 500\n",
    "  batch_size: 129\n",
    "  num_workers: 3\n",
    "  num_nodes: 1\n",
    "  num_devices: 1\n",
    "  strategy: deepspeed_stage_1\n",
    "  img_size: 224\n",
    "  learning_rate: 5e-4\n",
    "  weight_decay: 0.05\n",
    "\n",
    "environment: azureml:godzilla-environment@latest\n",
    "resources:\n",
    "  instance_count: 3\n",
    "  shm_size: 1000G\n",
    "distribution:\n",
    "  type: pytorch \n",
    "  process_count_per_instance: 1\n",
    "compute: azureml:minizilla-1xV100x4-cluster\n",
    "display_name: mae_trainer\n",
    "experiment_name: mae_trainer\n",
    "description: Train a Machine Learning model using a workspace Data asset."
   ]
  },
  {
   "cell_type": "code",
   "execution_count": 8,
   "metadata": {},
   "outputs": [
    {
     "name": "stdout",
     "output_type": "stream",
     "text": [
      "{\n",
      "  \"code\": \"azureml:/subscriptions/781b03e7-6eb7-4506-bab8-cf3a0d89b1d4/resourceGroups/antonslutsky-rg/providers/Microsoft.MachineLearningServices/workspaces/gpu-workspace/codes/91975b91-8110-4db3-86cc-ffada893e430/versions/1\",\n",
      "  \"command\": \"python mae_trainer.py  --dataset_directory_name ${{inputs.data}}  --trainset ${{inputs.trainset}}  --valset ${{inputs.valset}}  --num_epochs ${{inputs.num_epochs}}  --batch_size ${{inputs.batch_size}}  --num_workers ${{inputs.num_workers}}   --num_nodes ${{inputs.num_nodes}}  --num_devices ${{inputs.num_devices}}   --strategy ${{inputs.strategy}}  --img_size ${{inputs.img_size}}  --learning_rate ${{inputs.learning_rate}}  --weight_decay ${{inputs.weight_decay}}\",\n",
      "  \"compute\": \"azureml:minizilla-1xV100x4-cluster\",\n",
      "  \"creation_context\": {\n",
      "    \"created_at\": \"2023-12-11T14:27:27.362731+00:00\",\n",
      "    \"created_by\": \"Anton Slutsky\",\n",
      "    \"created_by_type\": \"User\"\n",
      "  },\n",
      "  \"description\": \"Train a Machine Learning model using a workspace Data asset.\",\n",
      "  \"display_name\": \"mae_trainer\",\n",
      "  \"distribution\": {\n",
      "    \"process_count_per_instance\": 1,\n",
      "    \"type\": \"pytorch\"\n",
      "  },\n",
      "  \"environment\": \"azureml:godzilla-environment:1\",\n",
      "  \"environment_variables\": {},\n",
      "  \"experiment_name\": \"mae_trainer\",\n",
      "  \"id\": \"azureml:/subscriptions/781b03e7-6eb7-4506-bab8-cf3a0d89b1d4/resourceGroups/antonslutsky-rg/providers/Microsoft.MachineLearningServices/workspaces/gpu-workspace/jobs/frank_nutmeg_80dy18vd8z\",\n",
      "  \"inputs\": {\n",
      "    \"batch_size\": \"129\",\n",
      "    \"data\": {\n",
      "      \"mode\": \"ro_mount\",\n",
      "      \"path\": \"azureml://subscriptions/781b03e7-6eb7-4506-bab8-cf3a0d89b1d4/resourcegroups/antonslutsky-rg/workspaces/gpu-workspace/datastores/workspaceblobstore/paths/UI/2023-12-05_185853_UTC/ImageNet_1000_sm/imagenet-mini/\",\n",
      "      \"type\": \"uri_folder\"\n",
      "    },\n",
      "    \"img_size\": \"224\",\n",
      "    \"learning_rate\": \"5e-4\",\n",
      "    \"num_devices\": \"1\",\n",
      "    \"num_epochs\": \"500\",\n",
      "    \"num_nodes\": \"1\",\n",
      "    \"num_workers\": \"3\",\n",
      "    \"strategy\": \"deepspeed_stage_1\",\n",
      "    \"trainset\": {\n",
      "      \"mode\": \"ro_mount\",\n",
      "      \"path\": \"azureml://subscriptions/781b03e7-6eb7-4506-bab8-cf3a0d89b1d4/resourcegroups/antonslutsky-rg/workspaces/gpu-workspace/datastores/workspaceblobstore/paths/UI/2023-12-05_190730_UTC/ImageNet_1000_train.csv\",\n",
      "      \"type\": \"uri_file\"\n",
      "    },\n",
      "    \"valset\": {\n",
      "      \"mode\": \"ro_mount\",\n",
      "      \"path\": \"azureml://subscriptions/781b03e7-6eb7-4506-bab8-cf3a0d89b1d4/resourcegroups/antonslutsky-rg/workspaces/gpu-workspace/datastores/workspaceblobstore/paths/UI/2023-12-05_190801_UTC/ImageNet_1000_val.csv\",\n",
      "      \"type\": \"uri_file\"\n",
      "    },\n",
      "    \"weight_decay\": \"0.05\"\n",
      "  },\n",
      "  \"name\": \"frank_nutmeg_80dy18vd8z\",\n",
      "  \"outputs\": {\n",
      "    \"default\": {\n",
      "      \"mode\": \"rw_mount\",\n",
      "      \"path\": \"azureml://datastores/workspaceartifactstore/ExperimentRun/dcid.frank_nutmeg_80dy18vd8z\",\n",
      "      \"type\": \"uri_folder\"\n",
      "    }\n",
      "  },\n",
      "  \"parameters\": {},\n",
      "  \"properties\": {\n",
      "    \"ContentSnapshotId\": \"55815ab9-12da-453b-acf6-de9fe4c07438\",\n",
      "    \"_azureml.ComputeTargetType\": \"amlctrain\"\n",
      "  },\n",
      "  \"resourceGroup\": \"antonslutsky-rg\",\n",
      "  \"resources\": {\n",
      "    \"instance_count\": 3,\n",
      "    \"properties\": {},\n",
      "    \"shm_size\": \"1000G\"\n",
      "  },\n",
      "  \"services\": {\n",
      "    \"Studio\": {\n",
      "      \"endpoint\": \"https://ml.azure.com/runs/frank_nutmeg_80dy18vd8z?wsid=/subscriptions/781b03e7-6eb7-4506-bab8-cf3a0d89b1d4/resourcegroups/antonslutsky-rg/workspaces/gpu-workspace&tid=16b3c013-d300-468d-ac64-7eda0820b6d3\",\n",
      "      \"type\": \"Studio\"\n",
      "    },\n",
      "    \"Tracking\": {\n",
      "      \"endpoint\": \"azureml://northeurope.api.azureml.ms/mlflow/v1.0/subscriptions/781b03e7-6eb7-4506-bab8-cf3a0d89b1d4/resourceGroups/antonslutsky-rg/providers/Microsoft.MachineLearningServices/workspaces/gpu-workspace?\",\n",
      "      \"type\": \"Tracking\"\n",
      "    }\n",
      "  },\n",
      "  \"status\": \"Starting\",\n",
      "  \"tags\": {},\n",
      "  \"type\": \"command\"\n",
      "}\n"
     ]
    },
    {
     "name": "stderr",
     "output_type": "stream",
     "text": [
      "Class AutoDeleteSettingSchema: This is an experimental class, and may change at any time. Please see https://aka.ms/azuremlexperimental for more information.\n",
      "Class AutoDeleteConditionSchema: This is an experimental class, and may change at any time. Please see https://aka.ms/azuremlexperimental for more information.\n",
      "Class BaseAutoDeleteSettingSchema: This is an experimental class, and may change at any time. Please see https://aka.ms/azuremlexperimental for more information.\n",
      "Class IntellectualPropertySchema: This is an experimental class, and may change at any time. Please see https://aka.ms/azuremlexperimental for more information.\n",
      "Class ProtectionLevelSchema: This is an experimental class, and may change at any time. Please see https://aka.ms/azuremlexperimental for more information.\n",
      "Class BaseIntellectualPropertySchema: This is an experimental class, and may change at any time. Please see https://aka.ms/azuremlexperimental for more information.\n"
     ]
    }
   ],
   "source": [
    "!az ml job create -f dependencies/job.yml"
   ]
  },
  {
   "cell_type": "code",
   "execution_count": null,
   "metadata": {},
   "outputs": [],
   "source": []
  }
 ],
 "metadata": {
  "kernelspec": {
   "display_name": "Python 3",
   "language": "python",
   "name": "python3"
  },
  "language_info": {
   "codemirror_mode": {
    "name": "ipython",
    "version": 3
   },
   "file_extension": ".py",
   "mimetype": "text/x-python",
   "name": "python",
   "nbconvert_exporter": "python",
   "pygments_lexer": "ipython3",
   "version": "3.11.5"
  }
 },
 "nbformat": 4,
 "nbformat_minor": 2
}
