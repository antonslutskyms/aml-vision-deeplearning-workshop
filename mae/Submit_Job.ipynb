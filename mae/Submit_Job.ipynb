{
 "cells": [
  {
   "cell_type": "code",
   "execution_count": 106,
   "metadata": {},
   "outputs": [
    {
     "name": "stderr",
     "output_type": "stream",
     "text": [
      "WARNING: Please select the account you want to log in with.\n",
      "ERROR: User cancelled the Accounts Control Operation.. Status: Response_Status.Status_UserCanceled, Error code: 0, Tag: 528315210\n",
      "Please explicitly log in with:\n",
      "az login\n"
     ]
    }
   ],
   "source": [
    "!az login --tenant 16b3c013-d300-468d-ac64-7eda0820b6d3"
   ]
  },
  {
   "cell_type": "code",
   "execution_count": 107,
   "metadata": {},
   "outputs": [],
   "source": [
    "!az configure --defaults workspace=gpu-workspace group=antonslutsky-rg"
   ]
  },
  {
   "cell_type": "code",
   "execution_count": 108,
   "metadata": {},
   "outputs": [
    {
     "name": "stdout",
     "output_type": "stream",
     "text": [
      "Overwriting ./dependencies/job.yml\n"
     ]
    }
   ],
   "source": [
    "%%writefile ./dependencies/job.yml\n",
    "$schema: https://azuremlschemas.azureedge.net/latest/commandJob.schema.json\n",
    "code: ../src\n",
    "command: >-\n",
    "  python mae_trainer.py \n",
    "  --dataset_directory_name ${{inputs.data}} \n",
    "  --trainset ${{inputs.trainset}} \n",
    "  --valset ${{inputs.valset}} \n",
    "  --num_epochs ${{inputs.num_epochs}} \n",
    "  --batch_size ${{inputs.batch_size}} \n",
    "  --num_workers ${{inputs.num_workers}}  \n",
    "  --num_nodes ${{inputs.num_nodes}} \n",
    "  --num_devices ${{inputs.num_devices}}  \n",
    "  --strategy ${{inputs.strategy}} \n",
    "  --img_size ${{inputs.img_size}} \n",
    "  --learning_rate ${{inputs.learning_rate}} \n",
    "  --weight_decay ${{inputs.weight_decay}}\n",
    "  --output_dir ${{outputs.output_dir}}\n",
    "inputs:\n",
    "  data:\n",
    "    type: uri_folder\n",
    "    path: azureml://subscriptions/781b03e7-6eb7-4506-bab8-cf3a0d89b1d4/resourcegroups/antonslutsky-rg/workspaces/gpu-workspace/datastores/workspaceblobstore/paths/UI/2023-12-05_185853_UTC/ImageNet_1000_sm/imagenet-mini/\n",
    "    mode: ro_mount      \n",
    "  trainset:\n",
    "    type: uri_file\n",
    "    path: azureml://subscriptions/781b03e7-6eb7-4506-bab8-cf3a0d89b1d4/resourcegroups/antonslutsky-rg/workspaces/gpu-workspace/datastores/workspaceblobstore/paths/UI/2023-12-05_190730_UTC/ImageNet_1000_train.csv\n",
    "    mode: ro_mount\n",
    "  valset:\n",
    "    type: uri_file\n",
    "    path: azureml://subscriptions/781b03e7-6eb7-4506-bab8-cf3a0d89b1d4/resourcegroups/antonslutsky-rg/workspaces/gpu-workspace/datastores/workspaceblobstore/paths/UI/2023-12-05_190801_UTC/ImageNet_1000_val.csv\n",
    "    mode: ro_mount        \n",
    "  num_epochs: 1\n",
    "  batch_size: 12\n",
    "  num_workers: 10\n",
    "  num_nodes: 4\n",
    "  num_devices: 1\n",
    "  #strategy: deepspeed_stage_3\n",
    "  strategy: \"deepspeed\"\n",
    "  #strategy: set_strategy(args)\n",
    "  img_size: 224\n",
    "  learning_rate: 5e-4\n",
    "  weight_decay: 0.05\n",
    "outputs:\n",
    "  output_dir:\n",
    "    type: uri_folder\n",
    "    mode: upload\n",
    "environment: azureml:godzilla-environment@latest\n",
    "resources:\n",
    "  instance_count: 4\n",
    "distribution:\n",
    "  type: pytorch \n",
    "  process_count_per_instance: 1\n",
    "compute: azureml:four-nodes\n",
    "display_name: mae_trainer\n",
    "experiment_name: mae_trainer\n",
    "description: Train a Machine Learning model using a workspace Data asset."
   ]
  },
  {
   "cell_type": "code",
   "execution_count": 109,
   "metadata": {},
   "outputs": [
    {
     "name": "stdout",
     "output_type": "stream",
     "text": [
      "{\n",
      "  \"code\": \"azureml:/subscriptions/781b03e7-6eb7-4506-bab8-cf3a0d89b1d4/resourceGroups/antonslutsky-rg/providers/Microsoft.MachineLearningServices/workspaces/gpu-workspace/codes/f5c2780d-64a5-42a8-9c00-7ab48e99bc0b/versions/1\",\n",
      "  \"command\": \"python mae_trainer.py  --dataset_directory_name ${{inputs.data}}  --trainset ${{inputs.trainset}}  --valset ${{inputs.valset}}  --num_epochs ${{inputs.num_epochs}}  --batch_size ${{inputs.batch_size}}  --num_workers ${{inputs.num_workers}}   --num_nodes ${{inputs.num_nodes}}  --num_devices ${{inputs.num_devices}}   --strategy ${{inputs.strategy}}  --img_size ${{inputs.img_size}}  --learning_rate ${{inputs.learning_rate}}  --weight_decay ${{inputs.weight_decay}} --output_dir ${{outputs.output_dir}}\",\n",
      "  \"compute\": \"azureml:four-nodes\",\n",
      "  \"creation_context\": {\n",
      "    \"created_at\": \"2024-01-23T15:53:02.117437+00:00\",\n",
      "    \"created_by\": \"Anton Slutsky\",\n",
      "    \"created_by_type\": \"User\"\n",
      "  },\n",
      "  \"description\": \"Train a Machine Learning model using a workspace Data asset.\",\n",
      "  \"display_name\": \"mae_trainer\",\n",
      "  \"distribution\": {\n",
      "    \"process_count_per_instance\": 1,\n",
      "    \"type\": \"pytorch\"\n",
      "  },\n",
      "  \"environment\": \"azureml:godzilla-environment:10\",\n",
      "  \"environment_variables\": {},\n",
      "  \"experiment_name\": \"mae_trainer\",\n",
      "  \"id\": \"azureml:/subscriptions/781b03e7-6eb7-4506-bab8-cf3a0d89b1d4/resourceGroups/antonslutsky-rg/providers/Microsoft.MachineLearningServices/workspaces/gpu-workspace/jobs/icy_glass_1ng47t5klm\",\n",
      "  \"inputs\": {\n",
      "    \"batch_size\": \"12\",\n",
      "    \"data\": {\n",
      "      \"mode\": \"ro_mount\",\n",
      "      \"path\": \"azureml://subscriptions/781b03e7-6eb7-4506-bab8-cf3a0d89b1d4/resourcegroups/antonslutsky-rg/workspaces/gpu-workspace/datastores/workspaceblobstore/paths/UI/2023-12-05_185853_UTC/ImageNet_1000_sm/imagenet-mini/\",\n",
      "      \"type\": \"uri_folder\"\n",
      "    },\n",
      "    \"img_size\": \"224\",\n",
      "    \"learning_rate\": \"5e-4\",\n",
      "    \"num_devices\": \"1\",\n",
      "    \"num_epochs\": \"1\",\n",
      "    \"num_nodes\": \"4\",\n",
      "    \"num_workers\": \"10\",\n",
      "    \"strategy\": \"deepspeed\",\n",
      "    \"trainset\": {\n",
      "      \"mode\": \"ro_mount\",\n",
      "      \"path\": \"azureml://subscriptions/781b03e7-6eb7-4506-bab8-cf3a0d89b1d4/resourcegroups/antonslutsky-rg/workspaces/gpu-workspace/datastores/workspaceblobstore/paths/UI/2023-12-05_190730_UTC/ImageNet_1000_train.csv\",\n",
      "      \"type\": \"uri_file\"\n",
      "    },\n",
      "    \"valset\": {\n",
      "      \"mode\": \"ro_mount\",\n",
      "      \"path\": \"azureml://subscriptions/781b03e7-6eb7-4506-bab8-cf3a0d89b1d4/resourcegroups/antonslutsky-rg/workspaces/gpu-workspace/datastores/workspaceblobstore/paths/UI/2023-12-05_190801_UTC/ImageNet_1000_val.csv\",\n",
      "      \"type\": \"uri_file\"\n",
      "    },\n",
      "    \"weight_decay\": \"0.05\"\n",
      "  },\n",
      "  \"name\": \"icy_glass_1ng47t5klm\",\n",
      "  \"outputs\": {\n",
      "    \"default\": {\n",
      "      \"mode\": \"rw_mount\",\n",
      "      \"path\": \"azureml://datastores/workspaceartifactstore/ExperimentRun/dcid.icy_glass_1ng47t5klm\",\n",
      "      \"type\": \"uri_folder\"\n",
      "    },\n",
      "    \"output_dir\": {\n",
      "      \"mode\": \"upload\",\n",
      "      \"type\": \"uri_folder\"\n",
      "    }\n",
      "  },\n",
      "  \"parameters\": {},\n",
      "  \"properties\": {\n",
      "    \"ContentSnapshotId\": \"91e74e12-1143-4288-9e32-18bdd543a198\",\n",
      "    \"_azureml.ClusterName\": \"four-nodes\",\n",
      "    \"_azureml.ComputeTargetType\": \"amlctrain\",\n",
      "    \"azureml.git.dirty\": \"True\",\n",
      "    \"mlflow.source.git.branch\": \"main\",\n",
      "    \"mlflow.source.git.commit\": \"6f4522c142f61614e02d4e133ff1744a240417f3\",\n",
      "    \"mlflow.source.git.repoURL\": \"https://github.com/antonslutskyms/aml-vision-deeplearning-workshop.git\"\n",
      "  },\n",
      "  \"resourceGroup\": \"antonslutsky-rg\",\n",
      "  \"resources\": {\n",
      "    \"instance_count\": 4,\n",
      "    \"properties\": {},\n",
      "    \"shm_size\": \"2g\"\n",
      "  },\n",
      "  \"services\": {\n",
      "    \"Studio\": {\n",
      "      \"endpoint\": \"https://ml.azure.com/runs/icy_glass_1ng47t5klm?wsid=/subscriptions/781b03e7-6eb7-4506-bab8-cf3a0d89b1d4/resourcegroups/antonslutsky-rg/workspaces/gpu-workspace&tid=16b3c013-d300-468d-ac64-7eda0820b6d3\",\n",
      "      \"type\": \"Studio\"\n",
      "    },\n",
      "    \"Tracking\": {\n",
      "      \"endpoint\": \"azureml://northeurope.api.azureml.ms/mlflow/v1.0/subscriptions/781b03e7-6eb7-4506-bab8-cf3a0d89b1d4/resourceGroups/antonslutsky-rg/providers/Microsoft.MachineLearningServices/workspaces/gpu-workspace?\",\n",
      "      \"type\": \"Tracking\"\n",
      "    }\n",
      "  },\n",
      "  \"status\": \"Starting\",\n",
      "  \"tags\": {},\n",
      "  \"type\": \"command\"\n",
      "}\n"
     ]
    },
    {
     "name": "stderr",
     "output_type": "stream",
     "text": [
      "Class AutoDeleteSettingSchema: This is an experimental class, and may change at any time. Please see https://aka.ms/azuremlexperimental for more information.\n",
      "Class AutoDeleteConditionSchema: This is an experimental class, and may change at any time. Please see https://aka.ms/azuremlexperimental for more information.\n",
      "Class BaseAutoDeleteSettingSchema: This is an experimental class, and may change at any time. Please see https://aka.ms/azuremlexperimental for more information.\n",
      "Class IntellectualPropertySchema: This is an experimental class, and may change at any time. Please see https://aka.ms/azuremlexperimental for more information.\n",
      "Class ProtectionLevelSchema: This is an experimental class, and may change at any time. Please see https://aka.ms/azuremlexperimental for more information.\n",
      "Class BaseIntellectualPropertySchema: This is an experimental class, and may change at any time. Please see https://aka.ms/azuremlexperimental for more information.\n",
      "\n",
      "Uploading src (0.12 MBs):   0%|          | 0/116406 [00:00<?, ?it/s]\n",
      "Uploading src (0.12 MBs):  11%|#1        | 12861/116406 [00:00<00:01, 91996.76it/s]\n",
      "Uploading src (0.12 MBs):  21%|##        | 24433/116406 [00:00<00:01, 69906.26it/s]\n",
      "Uploading src (0.12 MBs): 100%|##########| 116406/116406 [00:00<00:00, 274625.52it/s]\n",
      "\n",
      "\n"
     ]
    }
   ],
   "source": [
    "!az ml job create -f dependencies/job.yml"
   ]
  },
  {
   "cell_type": "code",
   "execution_count": null,
   "metadata": {},
   "outputs": [],
   "source": []
  }
 ],
 "metadata": {
  "kernelspec": {
   "display_name": "Python 3",
   "language": "python",
   "name": "python3"
  },
  "language_info": {
   "codemirror_mode": {
    "name": "ipython",
    "version": 3
   },
   "file_extension": ".py",
   "mimetype": "text/x-python",
   "name": "python",
   "nbconvert_exporter": "python",
   "pygments_lexer": "ipython3",
   "version": "3.11.7"
  }
 },
 "nbformat": 4,
 "nbformat_minor": 2
}
