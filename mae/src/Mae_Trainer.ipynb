{
 "cells": [
  {
   "cell_type": "code",
   "execution_count": 1,
   "metadata": {},
   "outputs": [
    {
     "name": "stdout",
     "output_type": "stream",
     "text": [
      "Extension horovod.torch has not been built: /anaconda/envs/azureml_py38_PT_TF/lib/python3.8/site-packages/horovod/torch/mpi_lib_v2.cpython-38-x86_64-linux-gnu.so not found\n",
      "If this is not expected, reinstall Horovod with HOROVOD_WITH_PYTORCH=1 to debug the build error.\n",
      "Warning! MPI libs are missing, but python applications are still available.\n"
     ]
    }
   ],
   "source": [
    "# ---------------------------------------------------------\n",
    "# Copyright (c) Microsoft Corporation. All rights reserved.\n",
    "# ---------------------------------------------------------\n",
    "\n",
    "import argparse\n",
    "import torch, os, sys\n",
    "#from deepspeed.ops.adam import FusedAdam\n",
    "from azureml.core import Run\n",
    "from pytorch_lightning import LightningModule, Trainer, seed_everything\n",
    "from pytorch_lightning.loggers import MLFlowLogger\n",
    "from pytorch_lightning.callbacks import ModelCheckpoint, LearningRateMonitor, RichModelSummary\n",
    "from os.path import join\n",
    "from datasets.mae_datasets import make_dataloaders\n",
    "import argparse\n",
    "from utils.utils import display_environment\n",
    "from utils.openmpi import set_strategy\n",
    "from torch import optim\n",
    "from models.models_mae import mae_vit_huge_patch14_dec512d8b\n",
    "import timm\n",
    "from torch import optim, nn, utils\n",
    "from torchvision.datasets import ImageFolder\n",
    "from torchvision.transforms import transforms\n",
    "import torch, os, sys\n",
    "#from deepspeed.ops.adam import FusedAdam\n",
    "from azureml.core import Run\n",
    "from pytorch_lightning import LightningModule, Trainer, seed_everything\n",
    "from pytorch_lightning.loggers import MLFlowLogger\n",
    "from pytorch_lightning.callbacks import ModelCheckpoint, LearningRateMonitor, RichModelSummary\n",
    "from os.path import join\n",
    "from datasets.mae_datasets import make_dataloaders\n",
    "import argparse\n",
    "from utils.utils import display_environment\n",
    "from utils.openmpi import set_strategy, OpenMPIClusterEnvironment\n",
    "from torch import optim\n",
    "from models.models_mae import mae_vit_huge_patch14_dec512d8b\n",
    "import timm"
   ]
  },
  {
   "cell_type": "code",
   "execution_count": 2,
   "metadata": {},
   "outputs": [],
   "source": [
    "class MAELightning(LightningModule):\n",
    "    def __init__(self, args):\n",
    "        super().__init__()\n",
    "        self.args = args       \n",
    "        self.model = mae_vit_huge_patch14_dec512d8b()\n",
    "\n",
    "    def training_step(self, batch, _):\n",
    "        # Get the images and labels.\n",
    "        X = batch['image']\n",
    "\n",
    "        # Compute the training loss.\n",
    "        loss, _, _ = self.model(X)\n",
    "\n",
    "        # Log the training loss.\n",
    "        self.log(\"train_loss\", loss, prog_bar=True, sync_dist=True)\n",
    "\n",
    "        return loss\n",
    "\n",
    "    def validation_step(self, batch, _):\n",
    "        # Get the images and labels.\n",
    "        X = batch['image']\n",
    "        val_loss, _, _ = self.model(X)\n",
    "       \n",
    "        self.log(\"val_loss\", val_loss.item(), prog_bar=True, sync_dist=True) \n",
    "        \n",
    "        return {\"val_loss\":val_loss.item()}\n",
    "\n",
    "    def configure_optimizers(self):\n",
    "        # Make the optimizer and learning rate scheduler.\n",
    "        optimizer = optim.AdamW(\n",
    "            self.parameters(), lr=self.args.learning_rate, weight_decay=self.args.weight_decay\n",
    "        )\n",
    "        return [optimizer]"
   ]
  },
  {
   "cell_type": "code",
   "execution_count": 3,
   "metadata": {},
   "outputs": [
    {
     "data": {
      "text/plain": [
       "<__main__.Args at 0x7f1cabb7c9a0>"
      ]
     },
     "execution_count": 3,
     "metadata": {},
     "output_type": "execute_result"
    }
   ],
   "source": [
    "class Args:\n",
    "    dataset_directory_name=\"azureml://subscriptions/781b03e7-6eb7-4506-bab8-cf3a0d89b1d4/resourcegroups/antonslutsky-rg/workspaces/gpu-workspace/datastores/workspaceblobstore/paths/UI/2023-12-05_185853_UTC/ImageNet_1000_sm/imagenet-mini/\"\n",
    "    trainset=\"azureml://subscriptions/781b03e7-6eb7-4506-bab8-cf3a0d89b1d4/resourcegroups/antonslutsky-rg/workspaces/gpu-workspace/datastores/workspaceblobstore/paths/UI/2023-12-05_190730_UTC/ImageNet_1000_train.csv\"\n",
    "    valset=\"azureml://subscriptions/781b03e7-6eb7-4506-bab8-cf3a0d89b1d4/resourcegroups/antonslutsky-rg/workspaces/gpu-workspace/datastores/workspaceblobstore/paths/UI/2023-12-05_190801_UTC/ImageNet_1000_val.csv\" \n",
    "    num_epochs=500\n",
    "    batch_size=10\n",
    "    num_workers=1\n",
    "    num_nodest=1\n",
    "    num_devices=1\n",
    "    img_size=224\n",
    "    strategy=\"deepspeed_stage_1\"\n",
    "    experiment_name=\"minizilla_01\"\n",
    "    precision=32\n",
    "    learning_rate=1e-4\n",
    "    weight_decay=0\n",
    "    num_nodes=1\n",
    "\n",
    "args = Args()\n",
    "args"
   ]
  },
  {
   "cell_type": "code",
   "execution_count": 4,
   "metadata": {},
   "outputs": [
    {
     "name": "stdout",
     "output_type": "stream",
     "text": [
      "env: PL_GLOBAL_SEED=102938\n",
      "env: PL_SEED_WORKERS=1\n",
      "env: AZ_BATCH_MASTER_NODE=127.0.0.1:6000\n",
      "env: AZ_BATCHAI_MPI_MASTER_NODE=127.0.0.1\n",
      "env: MASTER_ADDR=127.0.0.1\n",
      "env: MASTER_ADDRESS=\n",
      "env: MASTER_PORT=6105\n",
      "env: RANK=0\n",
      "env: NODE_RANK=0\n",
      "env: LOCAL_RANK=0\n",
      "env: GLOBAL_RANK=\n",
      "env: WORLD_SIZE=16\n",
      "env: NCCL_SOCKET_IFNAME=eth0\n",
      "env: OMPI_COMM_WORLD_RANK=0\n",
      "env: OMPI_COMM_WORLD_LOCAL_RANK=0\n",
      "env: OMPI_COMM_WORLD_SIZE=1\n",
      "env: OMPI_COMM_WORLD_LOCAL_SIZE=1\n"
     ]
    }
   ],
   "source": [
    "%env PL_GLOBAL_SEED = 102938\n",
    "%env PL_SEED_WORKERS = 1\n",
    "%env AZ_BATCH_MASTER_NODE = 127.0.0.1:6000\n",
    "%env AZ_BATCHAI_MPI_MASTER_NODE = 127.0.0.1\n",
    "%env MASTER_ADDR = 127.0.0.1\n",
    "%env MASTER_ADDRESS = \n",
    "%env MASTER_PORT = 6105\n",
    "%env RANK = 0\n",
    "%env NODE_RANK = 0\n",
    "%env LOCAL_RANK = 0\n",
    "%env GLOBAL_RANK = \n",
    "%env WORLD_SIZE = 16\n",
    "%env NCCL_SOCKET_IFNAME = eth0\n",
    "%env OMPI_COMM_WORLD_RANK = 0\n",
    "%env OMPI_COMM_WORLD_LOCAL_RANK = 0\n",
    "%env OMPI_COMM_WORLD_SIZE = 1\n",
    "%env OMPI_COMM_WORLD_LOCAL_SIZE = 1"
   ]
  },
  {
   "cell_type": "code",
   "execution_count": 4,
   "metadata": {},
   "outputs": [
    {
     "name": "stderr",
     "output_type": "stream",
     "text": [
      "Global seed set to 102938\n"
     ]
    },
    {
     "name": "stdout",
     "output_type": "stream",
     "text": [
      "WARNING ! Could not connect to the MLFlow tracking uri, please check !\n",
      "creating training and validation sets...\n",
      "Creating dataloaders.......... !!!!!!!!!!!!!!!!!!!!!\n"
     ]
    },
    {
     "ename": "ValueError",
     "evalue": "Protocol not known: azureml",
     "output_type": "error",
     "traceback": [
      "\u001b[0;31m---------------------------------------------------------------------------\u001b[0m",
      "\u001b[0;31mValueError\u001b[0m                                Traceback (most recent call last)",
      "\u001b[1;32m/home/azureuser/cloudfiles/code/Users/antonslutsky/Minilla/Job_MAE_Modified_Transforms/src/Mae_Trainer.ipynb Cell 5\u001b[0m line \u001b[0;36m2\n\u001b[1;32m     <a href='vscode-notebook-cell://amlext%2B2f737562736372697074696f6e732f37383162303365372d366562372d343530362d626162382d6366336130643839623164342f7265736f7572636547726f7570732f616e746f6e736c7574736b792d72672f70726f7669646572732f4d6963726f736f66742e4d616368696e654c6561726e696e6753657276696365732f776f726b7370616365732f6770752d776f726b73706163652f636f6d70757465732f616e746f6e736c7574736b7931/home/azureuser/cloudfiles/code/Users/antonslutsky/Minilla/Job_MAE_Modified_Transforms/src/Mae_Trainer.ipynb#W4sdnNjb2RlLXJlbW90ZQ%3D%3D?line=19'>20</a>\u001b[0m seed_everything(\u001b[39m102938\u001b[39m, workers \u001b[39m=\u001b[39m \u001b[39mTrue\u001b[39;00m)\n\u001b[1;32m     <a href='vscode-notebook-cell://amlext%2B2f737562736372697074696f6e732f37383162303365372d366562372d343530362d626162382d6366336130643839623164342f7265736f7572636547726f7570732f616e746f6e736c7574736b792d72672f70726f7669646572732f4d6963726f736f66742e4d616368696e654c6561726e696e6753657276696365732f776f726b7370616365732f6770752d776f726b73706163652f636f6d70757465732f616e746f6e736c7574736b7931/home/azureuser/cloudfiles/code/Users/antonslutsky/Minilla/Job_MAE_Modified_Transforms/src/Mae_Trainer.ipynb#W4sdnNjb2RlLXJlbW90ZQ%3D%3D?line=21'>22</a>\u001b[0m \u001b[39mprint\u001b[39m(\u001b[39m\"\u001b[39m\u001b[39mcreating training and validation sets...\u001b[39m\u001b[39m\"\u001b[39m)\n\u001b[0;32m---> <a href='vscode-notebook-cell://amlext%2B2f737562736372697074696f6e732f37383162303365372d366562372d343530362d626162382d6366336130643839623164342f7265736f7572636547726f7570732f616e746f6e736c7574736b792d72672f70726f7669646572732f4d6963726f736f66742e4d616368696e654c6561726e696e6753657276696365732f776f726b7370616365732f6770752d776f726b73706163652f636f6d70757465732f616e746f6e736c7574736b7931/home/azureuser/cloudfiles/code/Users/antonslutsky/Minilla/Job_MAE_Modified_Transforms/src/Mae_Trainer.ipynb#W4sdnNjb2RlLXJlbW90ZQ%3D%3D?line=22'>23</a>\u001b[0m train_loader , val_loader \u001b[39m=\u001b[39m make_dataloaders(args)\n\u001b[1;32m     <a href='vscode-notebook-cell://amlext%2B2f737562736372697074696f6e732f37383162303365372d366562372d343530362d626162382d6366336130643839623164342f7265736f7572636547726f7570732f616e746f6e736c7574736b792d72672f70726f7669646572732f4d6963726f736f66742e4d616368696e654c6561726e696e6753657276696365732f776f726b7370616365732f6770752d776f726b73706163652f636f6d70757465732f616e746f6e736c7574736b7931/home/azureuser/cloudfiles/code/Users/antonslutsky/Minilla/Job_MAE_Modified_Transforms/src/Mae_Trainer.ipynb#W4sdnNjb2RlLXJlbW90ZQ%3D%3D?line=23'>24</a>\u001b[0m \u001b[39mprint\u001b[39m(\u001b[39m\"\u001b[39m\u001b[39mdone\u001b[39m\u001b[39m\"\u001b[39m)\n\u001b[1;32m     <a href='vscode-notebook-cell://amlext%2B2f737562736372697074696f6e732f37383162303365372d366562372d343530362d626162382d6366336130643839623164342f7265736f7572636547726f7570732f616e746f6e736c7574736b792d72672f70726f7669646572732f4d6963726f736f66742e4d616368696e654c6561726e696e6753657276696365732f776f726b7370616365732f6770752d776f726b73706163652f636f6d70757465732f616e746f6e736c7574736b7931/home/azureuser/cloudfiles/code/Users/antonslutsky/Minilla/Job_MAE_Modified_Transforms/src/Mae_Trainer.ipynb#W4sdnNjb2RlLXJlbW90ZQ%3D%3D?line=26'>27</a>\u001b[0m \u001b[39mprint\u001b[39m(\u001b[39m\"\u001b[39m\u001b[39mcreating model...\u001b[39m\u001b[39m\"\u001b[39m)\n",
      "File \u001b[0;32m/mnt/batch/tasks/shared/LS_root/mounts/clusters/antonslutsky1/code/Users/antonslutsky/Minilla/Job_MAE_Modified_Transforms/src/datasets/mae_datasets.py:90\u001b[0m, in \u001b[0;36mmake_dataloaders\u001b[0;34m(args)\u001b[0m\n\u001b[1;32m     69\u001b[0m tfs_train \u001b[39m=\u001b[39m transforms\u001b[39m.\u001b[39mCompose([\n\u001b[1;32m     70\u001b[0m         SquarePad(),\n\u001b[1;32m     71\u001b[0m         \u001b[39m#transforms.Resize((args.img_size, args.img_size)),\u001b[39;00m\n\u001b[0;32m   (...)\u001b[0m\n\u001b[1;32m     81\u001b[0m         transforms\u001b[39m.\u001b[39mNormalize([\u001b[39m0.5\u001b[39m, \u001b[39m0.5\u001b[39m, \u001b[39m0.5\u001b[39m], [\u001b[39m0.5\u001b[39m, \u001b[39m0.5\u001b[39m, \u001b[39m0.5\u001b[39m]),\n\u001b[1;32m     82\u001b[0m     ])\n\u001b[1;32m     83\u001b[0m tfs_val \u001b[39m=\u001b[39m transforms\u001b[39m.\u001b[39mCompose([\n\u001b[1;32m     84\u001b[0m         SquarePad(),\n\u001b[1;32m     85\u001b[0m         transforms\u001b[39m.\u001b[39mResize((args\u001b[39m.\u001b[39mimg_size, args\u001b[39m.\u001b[39mimg_size)),\n\u001b[0;32m   (...)\u001b[0m\n\u001b[1;32m     88\u001b[0m         transforms\u001b[39m.\u001b[39mNormalize([\u001b[39m0.5\u001b[39m, \u001b[39m0.5\u001b[39m, \u001b[39m0.5\u001b[39m], [\u001b[39m0.5\u001b[39m, \u001b[39m0.5\u001b[39m, \u001b[39m0.5\u001b[39m]),\n\u001b[1;32m     89\u001b[0m     ])\n\u001b[0;32m---> 90\u001b[0m df_train \u001b[39m=\u001b[39m pd\u001b[39m.\u001b[39;49mread_csv(args\u001b[39m.\u001b[39;49mtrainset)\n\u001b[1;32m     91\u001b[0m df_val \u001b[39m=\u001b[39m pd\u001b[39m.\u001b[39mread_csv(args\u001b[39m.\u001b[39mvalset)\n\u001b[1;32m     93\u001b[0m \u001b[39mprint\u001b[39m(\u001b[39m\"\u001b[39m\u001b[39m**********************************************************\u001b[39m\u001b[39m\"\u001b[39m)\n",
      "File \u001b[0;32m/anaconda/envs/azureml_py38_PT_TF/lib/python3.8/site-packages/pandas/util/_decorators.py:211\u001b[0m, in \u001b[0;36mdeprecate_kwarg.<locals>._deprecate_kwarg.<locals>.wrapper\u001b[0;34m(*args, **kwargs)\u001b[0m\n\u001b[1;32m    209\u001b[0m     \u001b[39melse\u001b[39;00m:\n\u001b[1;32m    210\u001b[0m         kwargs[new_arg_name] \u001b[39m=\u001b[39m new_arg_value\n\u001b[0;32m--> 211\u001b[0m \u001b[39mreturn\u001b[39;00m func(\u001b[39m*\u001b[39;49margs, \u001b[39m*\u001b[39;49m\u001b[39m*\u001b[39;49mkwargs)\n",
      "File \u001b[0;32m/anaconda/envs/azureml_py38_PT_TF/lib/python3.8/site-packages/pandas/util/_decorators.py:331\u001b[0m, in \u001b[0;36mdeprecate_nonkeyword_arguments.<locals>.decorate.<locals>.wrapper\u001b[0;34m(*args, **kwargs)\u001b[0m\n\u001b[1;32m    325\u001b[0m \u001b[39mif\u001b[39;00m \u001b[39mlen\u001b[39m(args) \u001b[39m>\u001b[39m num_allow_args:\n\u001b[1;32m    326\u001b[0m     warnings\u001b[39m.\u001b[39mwarn(\n\u001b[1;32m    327\u001b[0m         msg\u001b[39m.\u001b[39mformat(arguments\u001b[39m=\u001b[39m_format_argument_list(allow_args)),\n\u001b[1;32m    328\u001b[0m         \u001b[39mFutureWarning\u001b[39;00m,\n\u001b[1;32m    329\u001b[0m         stacklevel\u001b[39m=\u001b[39mfind_stack_level(),\n\u001b[1;32m    330\u001b[0m     )\n\u001b[0;32m--> 331\u001b[0m \u001b[39mreturn\u001b[39;00m func(\u001b[39m*\u001b[39;49margs, \u001b[39m*\u001b[39;49m\u001b[39m*\u001b[39;49mkwargs)\n",
      "File \u001b[0;32m/anaconda/envs/azureml_py38_PT_TF/lib/python3.8/site-packages/pandas/io/parsers/readers.py:950\u001b[0m, in \u001b[0;36mread_csv\u001b[0;34m(filepath_or_buffer, sep, delimiter, header, names, index_col, usecols, squeeze, prefix, mangle_dupe_cols, dtype, engine, converters, true_values, false_values, skipinitialspace, skiprows, skipfooter, nrows, na_values, keep_default_na, na_filter, verbose, skip_blank_lines, parse_dates, infer_datetime_format, keep_date_col, date_parser, dayfirst, cache_dates, iterator, chunksize, compression, thousands, decimal, lineterminator, quotechar, quoting, doublequote, escapechar, comment, encoding, encoding_errors, dialect, error_bad_lines, warn_bad_lines, on_bad_lines, delim_whitespace, low_memory, memory_map, float_precision, storage_options)\u001b[0m\n\u001b[1;32m    935\u001b[0m kwds_defaults \u001b[39m=\u001b[39m _refine_defaults_read(\n\u001b[1;32m    936\u001b[0m     dialect,\n\u001b[1;32m    937\u001b[0m     delimiter,\n\u001b[0;32m   (...)\u001b[0m\n\u001b[1;32m    946\u001b[0m     defaults\u001b[39m=\u001b[39m{\u001b[39m\"\u001b[39m\u001b[39mdelimiter\u001b[39m\u001b[39m\"\u001b[39m: \u001b[39m\"\u001b[39m\u001b[39m,\u001b[39m\u001b[39m\"\u001b[39m},\n\u001b[1;32m    947\u001b[0m )\n\u001b[1;32m    948\u001b[0m kwds\u001b[39m.\u001b[39mupdate(kwds_defaults)\n\u001b[0;32m--> 950\u001b[0m \u001b[39mreturn\u001b[39;00m _read(filepath_or_buffer, kwds)\n",
      "File \u001b[0;32m/anaconda/envs/azureml_py38_PT_TF/lib/python3.8/site-packages/pandas/io/parsers/readers.py:605\u001b[0m, in \u001b[0;36m_read\u001b[0;34m(filepath_or_buffer, kwds)\u001b[0m\n\u001b[1;32m    602\u001b[0m _validate_names(kwds\u001b[39m.\u001b[39mget(\u001b[39m\"\u001b[39m\u001b[39mnames\u001b[39m\u001b[39m\"\u001b[39m, \u001b[39mNone\u001b[39;00m))\n\u001b[1;32m    604\u001b[0m \u001b[39m# Create the parser.\u001b[39;00m\n\u001b[0;32m--> 605\u001b[0m parser \u001b[39m=\u001b[39m TextFileReader(filepath_or_buffer, \u001b[39m*\u001b[39;49m\u001b[39m*\u001b[39;49mkwds)\n\u001b[1;32m    607\u001b[0m \u001b[39mif\u001b[39;00m chunksize \u001b[39mor\u001b[39;00m iterator:\n\u001b[1;32m    608\u001b[0m     \u001b[39mreturn\u001b[39;00m parser\n",
      "File \u001b[0;32m/anaconda/envs/azureml_py38_PT_TF/lib/python3.8/site-packages/pandas/io/parsers/readers.py:1442\u001b[0m, in \u001b[0;36mTextFileReader.__init__\u001b[0;34m(self, f, engine, **kwds)\u001b[0m\n\u001b[1;32m   1439\u001b[0m     \u001b[39mself\u001b[39m\u001b[39m.\u001b[39moptions[\u001b[39m\"\u001b[39m\u001b[39mhas_index_names\u001b[39m\u001b[39m\"\u001b[39m] \u001b[39m=\u001b[39m kwds[\u001b[39m\"\u001b[39m\u001b[39mhas_index_names\u001b[39m\u001b[39m\"\u001b[39m]\n\u001b[1;32m   1441\u001b[0m \u001b[39mself\u001b[39m\u001b[39m.\u001b[39mhandles: IOHandles \u001b[39m|\u001b[39m \u001b[39mNone\u001b[39;00m \u001b[39m=\u001b[39m \u001b[39mNone\u001b[39;00m\n\u001b[0;32m-> 1442\u001b[0m \u001b[39mself\u001b[39m\u001b[39m.\u001b[39m_engine \u001b[39m=\u001b[39m \u001b[39mself\u001b[39;49m\u001b[39m.\u001b[39;49m_make_engine(f, \u001b[39mself\u001b[39;49m\u001b[39m.\u001b[39;49mengine)\n",
      "File \u001b[0;32m/anaconda/envs/azureml_py38_PT_TF/lib/python3.8/site-packages/pandas/io/parsers/readers.py:1735\u001b[0m, in \u001b[0;36mTextFileReader._make_engine\u001b[0;34m(self, f, engine)\u001b[0m\n\u001b[1;32m   1733\u001b[0m     \u001b[39mif\u001b[39;00m \u001b[39m\"\u001b[39m\u001b[39mb\u001b[39m\u001b[39m\"\u001b[39m \u001b[39mnot\u001b[39;00m \u001b[39min\u001b[39;00m mode:\n\u001b[1;32m   1734\u001b[0m         mode \u001b[39m+\u001b[39m\u001b[39m=\u001b[39m \u001b[39m\"\u001b[39m\u001b[39mb\u001b[39m\u001b[39m\"\u001b[39m\n\u001b[0;32m-> 1735\u001b[0m \u001b[39mself\u001b[39m\u001b[39m.\u001b[39mhandles \u001b[39m=\u001b[39m get_handle(\n\u001b[1;32m   1736\u001b[0m     f,\n\u001b[1;32m   1737\u001b[0m     mode,\n\u001b[1;32m   1738\u001b[0m     encoding\u001b[39m=\u001b[39;49m\u001b[39mself\u001b[39;49m\u001b[39m.\u001b[39;49moptions\u001b[39m.\u001b[39;49mget(\u001b[39m\"\u001b[39;49m\u001b[39mencoding\u001b[39;49m\u001b[39m\"\u001b[39;49m, \u001b[39mNone\u001b[39;49;00m),\n\u001b[1;32m   1739\u001b[0m     compression\u001b[39m=\u001b[39;49m\u001b[39mself\u001b[39;49m\u001b[39m.\u001b[39;49moptions\u001b[39m.\u001b[39;49mget(\u001b[39m\"\u001b[39;49m\u001b[39mcompression\u001b[39;49m\u001b[39m\"\u001b[39;49m, \u001b[39mNone\u001b[39;49;00m),\n\u001b[1;32m   1740\u001b[0m     memory_map\u001b[39m=\u001b[39;49m\u001b[39mself\u001b[39;49m\u001b[39m.\u001b[39;49moptions\u001b[39m.\u001b[39;49mget(\u001b[39m\"\u001b[39;49m\u001b[39mmemory_map\u001b[39;49m\u001b[39m\"\u001b[39;49m, \u001b[39mFalse\u001b[39;49;00m),\n\u001b[1;32m   1741\u001b[0m     is_text\u001b[39m=\u001b[39;49mis_text,\n\u001b[1;32m   1742\u001b[0m     errors\u001b[39m=\u001b[39;49m\u001b[39mself\u001b[39;49m\u001b[39m.\u001b[39;49moptions\u001b[39m.\u001b[39;49mget(\u001b[39m\"\u001b[39;49m\u001b[39mencoding_errors\u001b[39;49m\u001b[39m\"\u001b[39;49m, \u001b[39m\"\u001b[39;49m\u001b[39mstrict\u001b[39;49m\u001b[39m\"\u001b[39;49m),\n\u001b[1;32m   1743\u001b[0m     storage_options\u001b[39m=\u001b[39;49m\u001b[39mself\u001b[39;49m\u001b[39m.\u001b[39;49moptions\u001b[39m.\u001b[39;49mget(\u001b[39m\"\u001b[39;49m\u001b[39mstorage_options\u001b[39;49m\u001b[39m\"\u001b[39;49m, \u001b[39mNone\u001b[39;49;00m),\n\u001b[1;32m   1744\u001b[0m )\n\u001b[1;32m   1745\u001b[0m \u001b[39massert\u001b[39;00m \u001b[39mself\u001b[39m\u001b[39m.\u001b[39mhandles \u001b[39mis\u001b[39;00m \u001b[39mnot\u001b[39;00m \u001b[39mNone\u001b[39;00m\n\u001b[1;32m   1746\u001b[0m f \u001b[39m=\u001b[39m \u001b[39mself\u001b[39m\u001b[39m.\u001b[39mhandles\u001b[39m.\u001b[39mhandle\n",
      "File \u001b[0;32m/anaconda/envs/azureml_py38_PT_TF/lib/python3.8/site-packages/pandas/io/common.py:713\u001b[0m, in \u001b[0;36mget_handle\u001b[0;34m(path_or_buf, mode, encoding, compression, memory_map, is_text, errors, storage_options)\u001b[0m\n\u001b[1;32m    710\u001b[0m     codecs\u001b[39m.\u001b[39mlookup_error(errors)\n\u001b[1;32m    712\u001b[0m \u001b[39m# open URLs\u001b[39;00m\n\u001b[0;32m--> 713\u001b[0m ioargs \u001b[39m=\u001b[39m _get_filepath_or_buffer(\n\u001b[1;32m    714\u001b[0m     path_or_buf,\n\u001b[1;32m    715\u001b[0m     encoding\u001b[39m=\u001b[39;49mencoding,\n\u001b[1;32m    716\u001b[0m     compression\u001b[39m=\u001b[39;49mcompression,\n\u001b[1;32m    717\u001b[0m     mode\u001b[39m=\u001b[39;49mmode,\n\u001b[1;32m    718\u001b[0m     storage_options\u001b[39m=\u001b[39;49mstorage_options,\n\u001b[1;32m    719\u001b[0m )\n\u001b[1;32m    721\u001b[0m handle \u001b[39m=\u001b[39m ioargs\u001b[39m.\u001b[39mfilepath_or_buffer\n\u001b[1;32m    722\u001b[0m handles: \u001b[39mlist\u001b[39m[BaseBuffer]\n",
      "File \u001b[0;32m/anaconda/envs/azureml_py38_PT_TF/lib/python3.8/site-packages/pandas/io/common.py:409\u001b[0m, in \u001b[0;36m_get_filepath_or_buffer\u001b[0;34m(filepath_or_buffer, encoding, compression, mode, storage_options)\u001b[0m\n\u001b[1;32m    406\u001b[0m     \u001b[39mpass\u001b[39;00m\n\u001b[1;32m    408\u001b[0m \u001b[39mtry\u001b[39;00m:\n\u001b[0;32m--> 409\u001b[0m     file_obj \u001b[39m=\u001b[39m fsspec\u001b[39m.\u001b[39;49mopen(\n\u001b[1;32m    410\u001b[0m         filepath_or_buffer, mode\u001b[39m=\u001b[39;49mfsspec_mode, \u001b[39m*\u001b[39;49m\u001b[39m*\u001b[39;49m(storage_options \u001b[39mor\u001b[39;49;00m {})\n\u001b[1;32m    411\u001b[0m     )\u001b[39m.\u001b[39mopen()\n\u001b[1;32m    412\u001b[0m \u001b[39m# GH 34626 Reads from Public Buckets without Credentials needs anon=True\u001b[39;00m\n\u001b[1;32m    413\u001b[0m \u001b[39mexcept\u001b[39;00m \u001b[39mtuple\u001b[39m(err_types_to_retry_with_anon):\n",
      "File \u001b[0;32m/anaconda/envs/azureml_py38_PT_TF/lib/python3.8/site-packages/fsspec/core.py:459\u001b[0m, in \u001b[0;36mopen\u001b[0;34m(urlpath, mode, compression, encoding, errors, protocol, newline, **kwargs)\u001b[0m\n\u001b[1;32m    399\u001b[0m \u001b[39mdef\u001b[39;00m \u001b[39mopen\u001b[39m(\n\u001b[1;32m    400\u001b[0m     urlpath,\n\u001b[1;32m    401\u001b[0m     mode\u001b[39m=\u001b[39m\u001b[39m\"\u001b[39m\u001b[39mrb\u001b[39m\u001b[39m\"\u001b[39m,\n\u001b[0;32m   (...)\u001b[0m\n\u001b[1;32m    407\u001b[0m     \u001b[39m*\u001b[39m\u001b[39m*\u001b[39mkwargs,\n\u001b[1;32m    408\u001b[0m ):\n\u001b[1;32m    409\u001b[0m \u001b[39m    \u001b[39m\u001b[39m\"\"\"Given a path or paths, return one ``OpenFile`` object.\u001b[39;00m\n\u001b[1;32m    410\u001b[0m \n\u001b[1;32m    411\u001b[0m \u001b[39m    Parameters\u001b[39;00m\n\u001b[0;32m   (...)\u001b[0m\n\u001b[1;32m    457\u001b[0m \u001b[39m      https://filesystem-spec.readthedocs.io/en/latest/api.html#other-known-implementations\u001b[39;00m\n\u001b[1;32m    458\u001b[0m \u001b[39m    \"\"\"\u001b[39;00m\n\u001b[0;32m--> 459\u001b[0m     out \u001b[39m=\u001b[39m open_files(\n\u001b[1;32m    460\u001b[0m         urlpath\u001b[39m=\u001b[39;49m[urlpath],\n\u001b[1;32m    461\u001b[0m         mode\u001b[39m=\u001b[39;49mmode,\n\u001b[1;32m    462\u001b[0m         compression\u001b[39m=\u001b[39;49mcompression,\n\u001b[1;32m    463\u001b[0m         encoding\u001b[39m=\u001b[39;49mencoding,\n\u001b[1;32m    464\u001b[0m         errors\u001b[39m=\u001b[39;49merrors,\n\u001b[1;32m    465\u001b[0m         protocol\u001b[39m=\u001b[39;49mprotocol,\n\u001b[1;32m    466\u001b[0m         newline\u001b[39m=\u001b[39;49mnewline,\n\u001b[1;32m    467\u001b[0m         expand\u001b[39m=\u001b[39;49m\u001b[39mFalse\u001b[39;49;00m,\n\u001b[1;32m    468\u001b[0m         \u001b[39m*\u001b[39;49m\u001b[39m*\u001b[39;49mkwargs,\n\u001b[1;32m    469\u001b[0m     )\n\u001b[1;32m    470\u001b[0m     \u001b[39mif\u001b[39;00m \u001b[39mnot\u001b[39;00m out:\n\u001b[1;32m    471\u001b[0m         \u001b[39mraise\u001b[39;00m \u001b[39mFileNotFoundError\u001b[39;00m(urlpath)\n",
      "File \u001b[0;32m/anaconda/envs/azureml_py38_PT_TF/lib/python3.8/site-packages/fsspec/core.py:283\u001b[0m, in \u001b[0;36mopen_files\u001b[0;34m(urlpath, mode, compression, encoding, errors, name_function, num, protocol, newline, auto_mkdir, expand, **kwargs)\u001b[0m\n\u001b[1;32m    204\u001b[0m \u001b[39mdef\u001b[39;00m \u001b[39mopen_files\u001b[39m(\n\u001b[1;32m    205\u001b[0m     urlpath,\n\u001b[1;32m    206\u001b[0m     mode\u001b[39m=\u001b[39m\u001b[39m\"\u001b[39m\u001b[39mrb\u001b[39m\u001b[39m\"\u001b[39m,\n\u001b[0;32m   (...)\u001b[0m\n\u001b[1;32m    216\u001b[0m     \u001b[39m*\u001b[39m\u001b[39m*\u001b[39mkwargs,\n\u001b[1;32m    217\u001b[0m ):\n\u001b[1;32m    218\u001b[0m \u001b[39m    \u001b[39m\u001b[39m\"\"\"Given a path or paths, return a list of ``OpenFile`` objects.\u001b[39;00m\n\u001b[1;32m    219\u001b[0m \n\u001b[1;32m    220\u001b[0m \u001b[39m    For writing, a str path must contain the \"*\" character, which will be filled\u001b[39;00m\n\u001b[0;32m   (...)\u001b[0m\n\u001b[1;32m    281\u001b[0m \u001b[39m      https://filesystem-spec.readthedocs.io/en/latest/api.html#other-known-implementations\u001b[39;00m\n\u001b[1;32m    282\u001b[0m \u001b[39m    \"\"\"\u001b[39;00m\n\u001b[0;32m--> 283\u001b[0m     fs, fs_token, paths \u001b[39m=\u001b[39m get_fs_token_paths(\n\u001b[1;32m    284\u001b[0m         urlpath,\n\u001b[1;32m    285\u001b[0m         mode,\n\u001b[1;32m    286\u001b[0m         num\u001b[39m=\u001b[39;49mnum,\n\u001b[1;32m    287\u001b[0m         name_function\u001b[39m=\u001b[39;49mname_function,\n\u001b[1;32m    288\u001b[0m         storage_options\u001b[39m=\u001b[39;49mkwargs,\n\u001b[1;32m    289\u001b[0m         protocol\u001b[39m=\u001b[39;49mprotocol,\n\u001b[1;32m    290\u001b[0m         expand\u001b[39m=\u001b[39;49mexpand,\n\u001b[1;32m    291\u001b[0m     )\n\u001b[1;32m    292\u001b[0m     \u001b[39mif\u001b[39;00m fs\u001b[39m.\u001b[39mprotocol \u001b[39m==\u001b[39m \u001b[39m\"\u001b[39m\u001b[39mfile\u001b[39m\u001b[39m\"\u001b[39m:\n\u001b[1;32m    293\u001b[0m         fs\u001b[39m.\u001b[39mauto_mkdir \u001b[39m=\u001b[39m auto_mkdir\n",
      "File \u001b[0;32m/anaconda/envs/azureml_py38_PT_TF/lib/python3.8/site-packages/fsspec/core.py:623\u001b[0m, in \u001b[0;36mget_fs_token_paths\u001b[0;34m(urlpath, mode, num, name_function, storage_options, protocol, expand)\u001b[0m\n\u001b[1;32m    621\u001b[0m \u001b[39mif\u001b[39;00m protocol:\n\u001b[1;32m    622\u001b[0m     storage_options[\u001b[39m\"\u001b[39m\u001b[39mprotocol\u001b[39m\u001b[39m\"\u001b[39m] \u001b[39m=\u001b[39m protocol\n\u001b[0;32m--> 623\u001b[0m chain \u001b[39m=\u001b[39m _un_chain(urlpath0, storage_options \u001b[39mor\u001b[39;49;00m {})\n\u001b[1;32m    624\u001b[0m inkwargs \u001b[39m=\u001b[39m {}\n\u001b[1;32m    625\u001b[0m \u001b[39m# Reverse iterate the chain, creating a nested target_* structure\u001b[39;00m\n",
      "File \u001b[0;32m/anaconda/envs/azureml_py38_PT_TF/lib/python3.8/site-packages/fsspec/core.py:332\u001b[0m, in \u001b[0;36m_un_chain\u001b[0;34m(path, kwargs)\u001b[0m\n\u001b[1;32m    330\u001b[0m \u001b[39mfor\u001b[39;00m bit \u001b[39min\u001b[39;00m \u001b[39mreversed\u001b[39m(bits):\n\u001b[1;32m    331\u001b[0m     protocol \u001b[39m=\u001b[39m kwargs\u001b[39m.\u001b[39mpop(\u001b[39m\"\u001b[39m\u001b[39mprotocol\u001b[39m\u001b[39m\"\u001b[39m, \u001b[39mNone\u001b[39;00m) \u001b[39mor\u001b[39;00m split_protocol(bit)[\u001b[39m0\u001b[39m] \u001b[39mor\u001b[39;00m \u001b[39m\"\u001b[39m\u001b[39mfile\u001b[39m\u001b[39m\"\u001b[39m\n\u001b[0;32m--> 332\u001b[0m     \u001b[39mcls\u001b[39m \u001b[39m=\u001b[39m get_filesystem_class(protocol)\n\u001b[1;32m    333\u001b[0m     extra_kwargs \u001b[39m=\u001b[39m \u001b[39mcls\u001b[39m\u001b[39m.\u001b[39m_get_kwargs_from_urls(bit)\n\u001b[1;32m    334\u001b[0m     kws \u001b[39m=\u001b[39m kwargs\u001b[39m.\u001b[39mpop(protocol, {})\n",
      "File \u001b[0;32m/anaconda/envs/azureml_py38_PT_TF/lib/python3.8/site-packages/fsspec/registry.py:233\u001b[0m, in \u001b[0;36mget_filesystem_class\u001b[0;34m(protocol)\u001b[0m\n\u001b[1;32m    231\u001b[0m \u001b[39mif\u001b[39;00m protocol \u001b[39mnot\u001b[39;00m \u001b[39min\u001b[39;00m registry:\n\u001b[1;32m    232\u001b[0m     \u001b[39mif\u001b[39;00m protocol \u001b[39mnot\u001b[39;00m \u001b[39min\u001b[39;00m known_implementations:\n\u001b[0;32m--> 233\u001b[0m         \u001b[39mraise\u001b[39;00m \u001b[39mValueError\u001b[39;00m(\u001b[39mf\u001b[39m\u001b[39m\"\u001b[39m\u001b[39mProtocol not known: \u001b[39m\u001b[39m{\u001b[39;00mprotocol\u001b[39m}\u001b[39;00m\u001b[39m\"\u001b[39m)\n\u001b[1;32m    234\u001b[0m     bit \u001b[39m=\u001b[39m known_implementations[protocol]\n\u001b[1;32m    235\u001b[0m     \u001b[39mtry\u001b[39;00m:\n",
      "\u001b[0;31mValueError\u001b[0m: Protocol not known: azureml"
     ]
    }
   ],
   "source": [
    "\n",
    "from pytorch_lightning.strategies import DeepSpeedStrategy\n",
    "\n",
    "# os.environ[\"PYTORCH_CUDA_ALLOC_CONF\"] = \"max_split_size_mb:128\"\n",
    "# os.environ[\"OMPI_COMM_WORLD_LOCAL_RANK\"] = \"0\"\n",
    "# os.environ[\"OMPI_COMM_WORLD_RANK\"] = \"0\"\n",
    "# os.environ[\"AZ_BATCHAI_MPI_MASTER_NODE\"] = \"127.0.0.1\"\n",
    "\n",
    "\n",
    "# If running on azure, get the active tracking uri and run id\n",
    "# otherwise, use the workspace to get a tracking uri\n",
    "active_run = Run.get_context() #  active run azureml object\n",
    "# offline = False\n",
    "try:\n",
    "    print(active_run.experiment)\n",
    "    tracking_uri=active_run.experiment.workspace.get_mlflow_tracking_uri()\n",
    "    run_id = active_run.id\n",
    "except:\n",
    "    print(f\"WARNING ! Could not connect to the MLFlow tracking uri, please check !\") #offline = True\n",
    "\n",
    "seed_everything(102938, workers = True)\n",
    "\n",
    "print(\"creating training and validation sets...\")\n",
    "train_loader , val_loader = make_dataloaders(args)\n",
    "print(\"done\")\n",
    "\n",
    "\n",
    "print(\"creating model...\")\n",
    "model = MAELightning(args=args)\n",
    "print(\"done\")\n",
    "\n",
    "# logger = MLFlowLogger(\n",
    "#             experiment_name=args.experiment_name,\n",
    "#             tracking_uri=tracking_uri,\n",
    "#             run_id=run_id\n",
    "# )\n",
    "\n",
    "display_environment(\"__main__\")\n",
    "\n",
    "checkpoint_callback = ModelCheckpoint(monitor=\"val_loss\", \n",
    "                                        mode=\"min\",\n",
    "                                        save_top_k=999,\n",
    "                                        verbose=True,\n",
    "                                        dirpath=\"./outputs/checkpoints/\",\n",
    "                                        filename=\"{epoch}-{val_loss:.2f}\",\n",
    "                                        save_weights_only=True,\n",
    "                                        auto_insert_metric_name=True)  \n",
    "\n",
    "lr_monitor = LearningRateMonitor(logging_interval='step')\n",
    "\n",
    "model_summary = RichModelSummary(max_depth=1)\n",
    "\n",
    "trainer = Trainer(\n",
    "    num_nodes=args.num_nodes,\n",
    "    accelerator='gpu',\n",
    "    devices=args.num_devices,\n",
    "    log_every_n_steps=1,\n",
    "    logger=None,\n",
    "    num_sanity_val_steps=2,\n",
    "    max_epochs=args.num_epochs,\n",
    "    enable_model_summary=False,\n",
    "    callbacks = [checkpoint_callback,lr_monitor,model_summary],\n",
    "    # strategy=DeepSpeedStrategy(\n",
    "    #         stage = 1,\n",
    "    #         cluster_environment = OpenMPIClusterEnvironment(devices=args.num_devices)\n",
    "    #     ),\n",
    "    strategy = \"deepspeed_stage_1\",\n",
    "    precision=args.precision\n",
    ")\n",
    "\n",
    "display_environment(\"__main__\")\n",
    "\n",
    "trainer.fit(model, train_dataloaders=train_loader, val_dataloaders=val_loader)\n",
    "\n",
    "print(f\"\"\"trainer.local_rank: {trainer.local_rank}\n",
    "trainer.global_rank : {trainer.global_rank}\n",
    "trainer.world_size : {trainer.world_size}\n",
    "\"\"\")\n"
   ]
  },
  {
   "cell_type": "code",
   "execution_count": 6,
   "metadata": {},
   "outputs": [
    {
     "name": "stdout",
     "output_type": "stream",
     "text": [
      "Cuda support: True : 1 devices\n"
     ]
    }
   ],
   "source": [
    "print(\"Cuda support:\", torch.cuda.is_available(),\":\", torch.cuda.device_count(), \"devices\")"
   ]
  },
  {
   "cell_type": "code",
   "execution_count": 8,
   "metadata": {},
   "outputs": [
    {
     "name": "stdout",
     "output_type": "stream",
     "text": [
      "\u001b[33mWARNING: Package(s) not found: cudatoolkit\u001b[0m\n"
     ]
    }
   ],
   "source": [
    "!pip show cudatoolkit"
   ]
  }
 ],
 "metadata": {
  "kernelspec": {
   "display_name": "Python 3.8 - Pytorch and Tensorflow",
   "language": "python",
   "name": "python38-azureml-pt-tf"
  },
  "language_info": {
   "codemirror_mode": {
    "name": "ipython",
    "version": 3
   },
   "file_extension": ".py",
   "mimetype": "text/x-python",
   "name": "python",
   "nbconvert_exporter": "python",
   "pygments_lexer": "ipython3",
   "version": "3.8.5"
  }
 },
 "nbformat": 4,
 "nbformat_minor": 2
}
